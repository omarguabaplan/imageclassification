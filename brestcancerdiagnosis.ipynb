{
  "nbformat": 4,
  "nbformat_minor": 0,
  "metadata": {
    "colab": {
      "name": "Cancerprevention.ipynb",
      "provenance": [],
      "authorship_tag": "ABX9TyPXlh4st+9S54UxZtzPD+8e",
      "include_colab_link": true
    },
    "kernelspec": {
      "name": "python3",
      "display_name": "Python 3"
    },
    "language_info": {
      "name": "python"
    }
  },
  "cells": [
    {
      "cell_type": "markdown",
      "metadata": {
        "id": "view-in-github",
        "colab_type": "text"
      },
      "source": [
        "<a href=\"https://colab.research.google.com/github/omarguabaplan/imageclassification/blob/main/brestcancerdiagnosis.ipynb\" target=\"_parent\"><img src=\"https://colab.research.google.com/assets/colab-badge.svg\" alt=\"Open In Colab\"/></a>"
      ]
    },
    {
      "cell_type": "code",
      "metadata": {
        "colab": {
          "base_uri": "https://localhost:8080/"
        },
        "id": "0fugbRxT8DRF",
        "outputId": "e977c0dc-8a0c-4bb6-a8dc-c8283cb3afdb"
      },
      "source": [
        " #import all necessary libraries\n",
        "import sklearn\n",
        "from sklearn.datasets import load_breast_cancer\n",
        "from sklearn.metrics import classification_report, confusion_matrix \n",
        "from sklearn.datasets import load_breast_cancer \n",
        "from sklearn.svm import SVC \n",
        "from sklearn.model_selection import GridSearchCV\n",
        "from sklearn.model_selection import train_test_split \n",
        " \n",
        "#load the dataset and split it into training and testing sets\n",
        "dataset = load_breast_cancer()\n",
        "X=dataset.data\n",
        "Y=dataset.target\n",
        "X_train, X_test, y_train, y_test = train_test_split( \n",
        "                        X,Y,test_size = 0.30, random_state = 101) \n",
        "# train the model on train set without using GridSearchCV \n",
        "model = SVC() \n",
        "model.fit(X_train, y_train) \n",
        "  \n",
        "# print prediction results \n",
        "predictions = model.predict(X_test) \n",
        "print(classification_report(y_test, predictions))"
      ],
      "execution_count": 1,
      "outputs": [
        {
          "output_type": "stream",
          "text": [
            "              precision    recall  f1-score   support\n",
            "\n",
            "           0       0.95      0.85      0.90        66\n",
            "           1       0.91      0.97      0.94       105\n",
            "\n",
            "    accuracy                           0.92       171\n",
            "   macro avg       0.93      0.91      0.92       171\n",
            "weighted avg       0.93      0.92      0.92       171\n",
            "\n"
          ],
          "name": "stdout"
        }
      ]
    }
  ]
}