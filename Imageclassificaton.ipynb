{
  "nbformat": 4,
  "nbformat_minor": 0,
  "metadata": {
    "colab": {
      "name": "Imageclassificaton.ipynb",
      "provenance": [],
      "authorship_tag": "ABX9TyP8yWCRRMQ1x13h7fzLZcJQ",
      "include_colab_link": true
    },
    "kernelspec": {
      "name": "python3",
      "display_name": "Python 3"
    },
    "language_info": {
      "name": "python"
    }
  },
  "cells": [
    {
      "cell_type": "markdown",
      "metadata": {
        "id": "view-in-github",
        "colab_type": "text"
      },
      "source": [
        "<a href=\"https://colab.research.google.com/github/omarguabaplan/imageclassification/blob/main/Imageclassificaton.ipynb\" target=\"_parent\"><img src=\"https://colab.research.google.com/assets/colab-badge.svg\" alt=\"Open In Colab\"/></a>"
      ]
    },
    {
      "cell_type": "code",
      "metadata": {
        "colab": {
          "base_uri": "https://localhost:8080/"
        },
        "id": "NW8vR2hycL71",
        "outputId": "5c2f8998-585b-495d-91a0-22317a8caf95"
      },
      "source": [
        " %tensorflow_version 2.x\n",
        "import tensorflow as tf\n",
        " \n",
        " \n",
        "mnist = tf.keras.datasets.mnist\n",
        " \n",
        "(x_train, y_train), (x_test,y_test) = mnist.load_data()\n",
        "x_train, x_test = x_train /255.0, x_test / 255.0\n",
        " \n",
        " \n",
        "model = tf.keras.models.Sequential([\n",
        "  tf.keras.layers.Flatten(input_shape=(28, 28)),\n",
        "  tf.keras.layers.Dense(128, activation='relu'),\n",
        "  tf.keras.layers.Dropout(0.2),\n",
        "  tf.keras.layers.Dense(10)\n",
        "])\n",
        " \n",
        " \n",
        "predictions = model(x_train[:1]).numpy()\n",
        "predictions\n",
        "tf.nn.softmax(predictions).numpy()\n",
        "loss_fn = tf.keras.losses.SparseCategoricalCrossentropy(from_logits=True)\n",
        " \n",
        "loss_fn(y_train[:1], predictions).numpy()\n",
        " \n",
        " \n",
        "model.compile(optimizer='adam',\n",
        "              loss=loss_fn,\n",
        "              metrics=['accuracy'])\n",
        " \n",
        " \n",
        " \n",
        "model.fit(x_train, y_train, epochs=5)\n",
        " \n",
        " \n",
        "model.evaluate(x_test,  y_test, verbose=2)\n",
        " \n",
        " \n",
        "probability_model = tf.keras.Sequential([\n",
        "  model,\n",
        "  tf.keras.layers.Softmax()\n",
        "])\n",
        " \n",
        " \n",
        "probability_model(x_test[:5])"
      ],
      "execution_count": 6,
      "outputs": [
        {
          "output_type": "stream",
          "text": [
            "Epoch 1/5\n",
            "1875/1875 [==============================] - 4s 2ms/step - loss: 0.2956 - accuracy: 0.9140\n",
            "Epoch 2/5\n",
            "1875/1875 [==============================] - 4s 2ms/step - loss: 0.1419 - accuracy: 0.9572\n",
            "Epoch 3/5\n",
            "1875/1875 [==============================] - 4s 2ms/step - loss: 0.1031 - accuracy: 0.9689\n",
            "Epoch 4/5\n",
            "1875/1875 [==============================] - 4s 2ms/step - loss: 0.0852 - accuracy: 0.9740\n",
            "Epoch 5/5\n",
            "1875/1875 [==============================] - 4s 2ms/step - loss: 0.0732 - accuracy: 0.9773\n",
            "313/313 - 0s - loss: 0.0707 - accuracy: 0.9790\n"
          ],
          "name": "stdout"
        },
        {
          "output_type": "execute_result",
          "data": {
            "text/plain": [
              "<tf.Tensor: shape=(5, 10), dtype=float32, numpy=\n",
              "array([[4.7282793e-08, 3.9937799e-08, 9.6728239e-05, 2.0710078e-04,\n",
              "        1.5756032e-09, 5.5871091e-08, 2.1360489e-12, 9.9968672e-01,\n",
              "        1.1740427e-06, 8.1430308e-06],\n",
              "       [9.9213249e-10, 1.1023532e-05, 9.9998891e-01, 3.9063906e-08,\n",
              "        7.6091435e-15, 1.2959458e-09, 4.9498000e-10, 1.0740201e-13,\n",
              "        9.6866781e-09, 7.4340045e-17],\n",
              "       [1.0061547e-06, 9.9780232e-01, 2.3075411e-04, 5.3529660e-05,\n",
              "        4.1146784e-05, 1.7678185e-05, 5.0606148e-05, 1.1343870e-03,\n",
              "        6.6752703e-04, 9.1190930e-07],\n",
              "       [9.9987972e-01, 1.8272897e-09, 2.3494125e-05, 3.5631444e-07,\n",
              "        5.3034189e-08, 3.5584515e-07, 9.4051997e-05, 9.8624207e-07,\n",
              "        9.7944707e-08, 9.7757106e-07],\n",
              "       [1.3081127e-06, 3.7824503e-08, 1.3385936e-06, 7.5340459e-08,\n",
              "        9.9871564e-01, 3.0028545e-07, 7.6548431e-06, 6.9732756e-05,\n",
              "        6.8543108e-07, 1.2032634e-03]], dtype=float32)>"
            ]
          },
          "metadata": {
            "tags": []
          },
          "execution_count": 6
        }
      ]
    }
  ]
}